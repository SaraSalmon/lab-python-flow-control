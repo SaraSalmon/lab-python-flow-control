{
 "cells": [
  {
   "cell_type": "markdown",
   "id": "d3bfc191-8885-42ee-b0a0-bbab867c6f9f",
   "metadata": {
    "tags": []
   },
   "source": [
    "# Lab | Flow Control"
   ]
  },
  {
   "cell_type": "markdown",
   "id": "3851fcd1-cf98-4653-9c89-e003b7ec9400",
   "metadata": {},
   "source": [
    "## Exercise: Managing Customer Orders Optimized\n",
    "\n",
    "In the last lab, you were starting an online store that sells various products. To ensure smooth operations, you developed a program that manages customer orders and inventory.\n",
    "\n",
    "You did so without using flow control. Let's go a step further and improve this code.\n",
    "\n",
    "Follow the steps below to complete the exercise:\n",
    "\n",
    "1. Look at your code from the lab data structures, and improve repeated code with loops.\n",
    "\n",
    "2. Instead of asking the user to input the name of three products that a customer wants to order, do the following:\n",
    "    \n",
    "    a. Prompt the user to enter the name of a product that a customer wants to order.\n",
    "    \n",
    "    b. Add the product name to the \"customer_orders\" set.\n",
    "    \n",
    "    c. Ask the user if they want to add another product (yes/no).\n",
    "    \n",
    "    d. Continue the loop until the user does not want to add another product.\n",
    "\n",
    "3. Instead of updating the inventory by subtracting 1 from the quantity of each product, only do it for  the products that were ordered (those in \"customer_orders\")."
   ]
  },
  {
   "cell_type": "code",
   "execution_count": 82,
   "id": "0437d55a-1244-4b9e-9879-06b3bd43d0f6",
   "metadata": {},
   "outputs": [],
   "source": [
    "product_list = [\"t-shirt\", \"mug\", \"hat\", \"book\", \"keychain\"]"
   ]
  },
  {
   "cell_type": "code",
   "execution_count": 83,
   "id": "73198ca8-17d8-45ed-b2b5-0f8413b65abf",
   "metadata": {},
   "outputs": [],
   "source": [
    "inventory = {}"
   ]
  },
  {
   "cell_type": "code",
   "execution_count": 84,
   "id": "3d193f7f-22cc-4e14-ade2-145247141524",
   "metadata": {},
   "outputs": [
    {
     "name": "stdin",
     "output_type": "stream",
     "text": [
      "Please, enter the quantity of t-shirt: 2\n",
      "Please, enter the quantity of mug: 3\n",
      "Please, enter the quantity of hat: 4\n",
      "Please, enter the quantity of book: 5\n",
      "Please, enter the quantity of keychain: 6\n"
     ]
    },
    {
     "name": "stdout",
     "output_type": "stream",
     "text": [
      "{'t-shirt': 2, 'mug': 3, 'hat': 4, 'book': 5, 'keychain': 6}\n"
     ]
    }
   ],
   "source": [
    "# Iteramos cada producto de la lista de productos \n",
    "for product in product_list:\n",
    "    inventory[product]=int(input(\"Please, enter the quantity of\" +\" \" + product + \":\")) #asignamos los productos como \"keys\" del diccionario y para los valores de cada producto lo solicitamos\n",
    "\n",
    "#Imprimimos el diccionario\n",
    "print(inventory)"
   ]
  },
  {
   "cell_type": "code",
   "execution_count": 85,
   "id": "2375a5ee-4d45-4d70-b1ee-401a04276d12",
   "metadata": {},
   "outputs": [],
   "source": [
    "customer_orders= set()"
   ]
  },
  {
   "cell_type": "markdown",
   "id": "9389eb54-af07-4ed0-9453-1d7e9853dade",
   "metadata": {},
   "source": [
    "2. Instead of asking the user to input the name of three products that a customer wants to order, do the following:\n",
    "\n",
    "a. Prompt the user to enter the name of a product that a customer wants to order.\n",
    "\n",
    "b. Add the product name to the \"customer_orders\" set.\n",
    "\n",
    "c. Ask the user if they want to add another product (yes/no).\n",
    "\n",
    "d. Continue the loop until the user does not want to add another product."
   ]
  },
  {
   "cell_type": "code",
   "execution_count": 87,
   "id": "23dca074-1c13-4f74-9fdd-b0480d963864",
   "metadata": {},
   "outputs": [
    {
     "name": "stdin",
     "output_type": "stream",
     "text": [
      "Input the name of a product you want to order from the product list:  hat\n",
      "Do you want to add another product? Please answer yes or no:  yes\n",
      "Input the name of a product you want to order from the product list:  book\n",
      "Do you want to add another product? Please answer yes or no:  no\n"
     ]
    }
   ],
   "source": [
    "# Empezamos con un bucle \"while\" que sólo parará cuando la respuesta sea \"no\"\n",
    "while True:\n",
    "    # Solicitamos al usuario que introduzca el nombre de un producto a pedir\n",
    "    product = input(\"Input the name of a product you want to order from the product list: \")\n",
    "    # Añadimos el producto al set creado previamente\n",
    "    customer_orders.add(product)\n",
    "    # Preguntamos al usuario si quiere añadir algun otro producto, indicandole que solo puede escribir si o no.\n",
    "    # Además, damos robustez al modelo:\n",
    "    # Con los métodos strip() y lower() eliminamos espacios en blanco al principio y al final de la cadena, y convertir todo el texto a minúsculas.\n",
    "    question = input(\"Do you want to add another product? Please answer yes or no: \").strip().lower()\n",
    "    # Establecemos la condición de ruptura del bucle\n",
    "    if question != \"yes\":\n",
    "        break"
   ]
  },
  {
   "cell_type": "markdown",
   "id": "cedc8664-0b0a-4e37-9500-ee3b7e9a7452",
   "metadata": {},
   "source": [
    "3. Instead of updating the inventory by subtracting 1 from the quantity of each product, only do it for the products that were ordered (those in \"customer_orders\")."
   ]
  },
  {
   "cell_type": "code",
   "execution_count": 97,
   "id": "f5403604-8b66-4756-9bf7-3018635ee8c3",
   "metadata": {},
   "outputs": [
    {
     "name": "stdout",
     "output_type": "stream",
     "text": [
      "t-shirt: 2\n",
      "mug: 3\n",
      "hat: 2\n",
      "book: 3\n",
      "keychain: 6\n"
     ]
    }
   ],
   "source": [
    "# Quitar del inventario uno de los productos que se han pedido previamente:\n",
    "\n",
    "for product in customer_orders: # # Iteramos sobre los productos en customer_orders\n",
    "    if product in inventory: # Si los productos se encuentran en el inventario\n",
    "        inventory[product] -= 1  # Resta 1 de la cantidad del producto en el inventario\n",
    "\n",
    "for product,  value in inventory.items():\n",
    "    print(f\"{product}: {value}\")"
   ]
  }
 ],
 "metadata": {
  "kernelspec": {
   "display_name": "Python 3 (ipykernel)",
   "language": "python",
   "name": "python3"
  },
  "language_info": {
   "codemirror_mode": {
    "name": "ipython",
    "version": 3
   },
   "file_extension": ".py",
   "mimetype": "text/x-python",
   "name": "python",
   "nbconvert_exporter": "python",
   "pygments_lexer": "ipython3",
   "version": "3.12.4"
  }
 },
 "nbformat": 4,
 "nbformat_minor": 5
}
